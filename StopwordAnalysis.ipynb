{
 "cells": [
  {
   "cell_type": "markdown",
   "id": "920c73db",
   "metadata": {},
   "source": [
    "# Import Statements"
   ]
  },
  {
   "cell_type": "code",
   "execution_count": 1,
   "id": "0b4d33fb",
   "metadata": {},
   "outputs": [],
   "source": [
    "import pandas as pd\n",
    "import json\n",
    "import glob\n",
    "from scipy import stats\n",
    "import itertools\n",
    "import numpy as np\n",
    "import matplotlib.pyplot as plt\n",
    "import seaborn as sns\n",
    "import statsmodels.api as sm\n",
    "\n",
    "from matplotlib import font_manager\n",
    "font_path = '/Users/abhik_bhattacharjee/Desktop/TextAnalytics/newcomputermodern/NewCM10-Regular.otf'\n",
    "font_manager.fontManager.addfont(font_path)\n",
    "prop = font_manager.FontProperties(fname=font_path)\n",
    "\n",
    "plt.rcParams['font.family'] = 'sans-serif'\n",
    "plt.rcParams['font.sans-serif'] = prop.get_name()"
   ]
  },
  {
   "cell_type": "code",
   "execution_count": 2,
   "id": "d9125835",
   "metadata": {},
   "outputs": [],
   "source": [
    "import os\n",
    "import re\n",
    "from nltk.corpus import stopwords"
   ]
  },
  {
   "cell_type": "code",
   "execution_count": 3,
   "id": "cfd7e7f2",
   "metadata": {},
   "outputs": [],
   "source": [
    "stopwords_list = stopwords.words('english')"
   ]
  },
  {
   "cell_type": "markdown",
   "id": "29870cc7",
   "metadata": {},
   "source": [
    "# Conversation Transcripts and Stopword Extraction"
   ]
  },
  {
   "cell_type": "code",
   "execution_count": 4,
   "id": "4b18960d",
   "metadata": {},
   "outputs": [],
   "source": [
    "folderTranscript = '/Users/abhik_bhattacharjee/Desktop/MSc CS IS SEM 2/Text Analytics/Group Project/transcripts and word frequencies/Normalised_Transcripts'"
   ]
  },
  {
   "cell_type": "code",
   "execution_count": 5,
   "id": "0eca809d",
   "metadata": {},
   "outputs": [],
   "source": [
    "files = os.listdir(folderTranscript)"
   ]
  },
  {
   "cell_type": "code",
   "execution_count": 6,
   "id": "9613e0da",
   "metadata": {},
   "outputs": [],
   "source": [
    "file_names = []\n",
    "stopwordCount = []\n",
    "session_names = []\n",
    "speaker_names = []"
   ]
  },
  {
   "cell_type": "code",
   "execution_count": 7,
   "id": "ea4179ad",
   "metadata": {},
   "outputs": [],
   "source": [
    "for file in files:\n",
    "    session_name, speaker_name = re.match(r'(.*?)_(.*?)\\.txt', file).groups()\n",
    "    with open(os.path.join(folderTranscript, file), 'r') as f:\n",
    "        text = f.read()\n",
    "    words = text.split()\n",
    "    stopwordCounts = len([word for word in words if word.lower() in stopwords_list])\n",
    "    file_names.append(file)\n",
    "    stopwordCount.append(stopwordCounts)\n",
    "    session_names.append(session_name)\n",
    "    speaker_names.append(speaker_name)\n",
    "\n",
    "df = pd.DataFrame({'File': file_names, 'SessionName': session_names, 'SpeakerName': speaker_names,\n",
    "                   'StopwordCount': stopwordCount})"
   ]
  },
  {
   "cell_type": "code",
   "execution_count": 8,
   "id": "f2745d00",
   "metadata": {},
   "outputs": [],
   "source": [
    "df = df.sort_values(by = ['SessionName', 'SpeakerName'])"
   ]
  },
  {
   "cell_type": "code",
   "execution_count": 9,
   "id": "1c013228",
   "metadata": {},
   "outputs": [],
   "source": [
    "dfMediator = df.iloc[::3, :]\n",
    "dfPar1 = df.iloc[1::3, :]\n",
    "dfPar2 = df.iloc[2::3, :]"
   ]
  },
  {
   "cell_type": "markdown",
   "id": "862b47e7",
   "metadata": {},
   "source": [
    "# Likert Scale Responses"
   ]
  },
  {
   "cell_type": "code",
   "execution_count": 10,
   "id": "88dd9aed",
   "metadata": {},
   "outputs": [],
   "source": [
    "meanLikert = pd.read_excel(\"MULTISIMO Corpus - Questionnaire - Likert Scale (Responses).xlsx\", \n",
    "                           sheet_name=\"Pivot-Mean\")\n",
    "medianLikert = pd.read_excel(\"MULTISIMO Corpus - Questionnaire - Likert Scale (Responses).xlsx\", \n",
    "                             sheet_name=\"Pivot-Median\")\n",
    "stdDevLikert = pd.read_excel(\"MULTISIMO Corpus - Questionnaire - Likert Scale (Responses).xlsx\", \n",
    "                             sheet_name=\"Pivot-StdDev\")"
   ]
  },
  {
   "cell_type": "code",
   "execution_count": 11,
   "id": "fa86995a",
   "metadata": {},
   "outputs": [],
   "source": [
    "check1 = itertools.islice(meanLikert.transpose()[8].tolist(), 1, None)\n",
    "check2 = itertools.islice(meanLikert.transpose()[7].tolist(), 1, None)\n",
    "check3 = itertools.islice(meanLikert.transpose()[6].tolist(), 1, None)\n",
    "check4 = itertools.islice(meanLikert.transpose()[5].tolist(), 1, None)\n",
    "check5 = itertools.islice(meanLikert.transpose()[4].tolist(), 1, None)\n",
    "list1 = []\n",
    "list2 = []\n",
    "list3 = []\n",
    "list4 = []\n",
    "list5 = []\n",
    "\n",
    "for i in check1:\n",
    "    list1.append(i)\n",
    "for i in check2:\n",
    "    list2.append(i)\n",
    "for i in check3:\n",
    "    list3.append(i)\n",
    "for i in check3:\n",
    "    list1.append(i)\n",
    "for i in check4:\n",
    "    list4.append(i)\n",
    "for i in check5:\n",
    "    list5.append(i)"
   ]
  },
  {
   "cell_type": "markdown",
   "id": "e131e6af",
   "metadata": {},
   "source": [
    "# Correlation Analysis"
   ]
  },
  {
   "cell_type": "markdown",
   "id": "7f5fd208",
   "metadata": {},
   "source": [
    "## Spearman Correlation\n",
    "- Number of Stopwords uttered by Mediator is correlated with Mediator Intervention\n",
    "- Statistically Significant"
   ]
  },
  {
   "cell_type": "markdown",
   "id": "6fd1762b",
   "metadata": {},
   "source": [
    "### Mediator Interference"
   ]
  },
  {
   "cell_type": "code",
   "execution_count": 12,
   "id": "fa92f177",
   "metadata": {},
   "outputs": [],
   "source": [
    "res = stats.spearmanr(dfMediator['StopwordCount'].tolist(), list1)"
   ]
  },
  {
   "cell_type": "code",
   "execution_count": 13,
   "id": "b3597059",
   "metadata": {},
   "outputs": [
    {
     "data": {
      "text/plain": [
       "SpearmanrResult(correlation=0.4560999397718311, pvalue=0.057117272227593156)"
      ]
     },
     "execution_count": 13,
     "metadata": {},
     "output_type": "execute_result"
    }
   ],
   "source": [
    "res"
   ]
  },
  {
   "cell_type": "code",
   "execution_count": 14,
   "id": "19470a3c",
   "metadata": {},
   "outputs": [
    {
     "data": {
      "image/png": "[encoded data removed]",
      "text/plain": [
       "<Figure size 640x480 with 1 Axes>"
      ]
     },
     "metadata": {},
     "output_type": "display_data"
    }
   ],
   "source": [
    "sns.scatterplot(x=dfMediator['StopwordCount'], y=list1)\n",
    "sns.regplot(x=dfMediator['StopwordCount'], y=list1, scatter=False, color='r', \n",
    "            label=r'Spearmanr = {:.2f}'.format(res.correlation))\n",
    "\n",
    "plt.xlabel('Variable 1')\n",
    "plt.ylabel('Variable 2')\n",
    "plt.title('Scatter plot with Spearman correlation')\n",
    "\n",
    "plt.legend()\n",
    "plt.show()"
   ]
  },
  {
   "cell_type": "markdown",
   "id": "6661cd3e",
   "metadata": {},
   "source": [
    "### Player1 Dominance and Involvement"
   ]
  },
  {
   "cell_type": "code",
   "execution_count": 15,
   "id": "31801cdd",
   "metadata": {},
   "outputs": [],
   "source": [
    "res = stats.spearmanr(dfPar1['StopwordCount'].tolist(), list3)\n",
    "res2 = stats.spearmanr(dfPar1['StopwordCount'].tolist(), list5)"
   ]
  },
  {
   "cell_type": "code",
   "execution_count": 21,
   "id": "87ba1698",
   "metadata": {},
   "outputs": [
    {
     "name": "stdout",
     "output_type": "stream",
     "text": [
      "SpearmanrResult(correlation=0.40708684204933104, pvalue=0.09360819249366609)\n",
      "PointbiserialrResult(correlation=0.4152022783973638, pvalue=0.08663196249871084)\n"
     ]
    }
   ],
   "source": [
    "print(res)\n",
    "print(res2)"
   ]
  },
  {
   "cell_type": "code",
   "execution_count": 20,
   "id": "c3501b93",
   "metadata": {},
   "outputs": [
    {
     "data": {
      "image/png": "[encoded data removed]",
      "text/plain": [
       "<Figure size 640x480 with 1 Axes>"
      ]
     },
     "metadata": {},
     "output_type": "display_data"
    }
   ],
   "source": [
    "sns.scatterplot(x=dfPar1['StopwordCount'], y=list3)\n",
    "sns.regplot(x=dfPar1['StopwordCount'], y=list3, scatter=False, color='r', \n",
    "            label=r'Spearmanr = {:.2f}'.format(res.correlation))\n",
    "\n",
    "plt.xlabel('Variable 1')\n",
    "plt.ylabel('Variable 2')\n",
    "plt.title('Scatter plot with Spearman correlation')\n",
    "\n",
    "plt.legend()\n",
    "plt.show()"
   ]
  },
  {
   "cell_type": "code",
   "execution_count": 23,
   "id": "f5576ebc",
   "metadata": {},
   "outputs": [
    {
     "data": {
      "image/png": "[encoded data removed]",
      "text/plain": [
       "<Figure size 640x480 with 1 Axes>"
      ]
     },
     "metadata": {},
     "output_type": "display_data"
    }
   ],
   "source": [
    "sns.scatterplot(x=dfPar1['StopwordCount'], y=list5)\n",
    "sns.regplot(x=dfPar1['StopwordCount'], y=list5, scatter=False, color='r', \n",
    "            label=r'Spearmanr = {:.2f}'.format(res2.correlation))\n",
    "\n",
    "plt.xlabel('Variable 1')\n",
    "plt.ylabel('Variable 2')\n",
    "plt.title('Scatter plot with Spearman correlation')\n",
    "\n",
    "plt.legend()\n",
    "plt.show()"
   ]
  },
  {
   "cell_type": "markdown",
   "id": "e6fe5727",
   "metadata": {},
   "source": [
    "### Player2 Dominance and Involvement"
   ]
  },
  {
   "cell_type": "code",
   "execution_count": 24,
   "id": "b8d8db97",
   "metadata": {},
   "outputs": [],
   "source": [
    "res = stats.spearmanr(dfPar1['StopwordCount'].tolist(), list2)\n",
    "res2 = stats.spearmanr(dfPar1['StopwordCount'].tolist(), list4)"
   ]
  },
  {
   "cell_type": "code",
   "execution_count": 25,
   "id": "d7e598fb",
   "metadata": {},
   "outputs": [
    {
     "name": "stdout",
     "output_type": "stream",
     "text": [
      "SpearmanrResult(correlation=0.016973091927612243, pvalue=0.9467048507553074)\n",
      "SpearmanrResult(correlation=-0.28386402322748583, pvalue=0.253640712374886)\n"
     ]
    }
   ],
   "source": [
    "print(res)\n",
    "print(res2)"
   ]
  },
  {
   "cell_type": "markdown",
   "id": "1367e6da",
   "metadata": {},
   "source": [
    "## Kendall's Tau\n",
    "- Number of Stopwords uttered by Mediator is correlated with Mediator Intervention\n",
    "- Not Statistically Significant"
   ]
  },
  {
   "cell_type": "code",
   "execution_count": 16,
   "id": "a572a1ae",
   "metadata": {},
   "outputs": [
    {
     "name": "stdout",
     "output_type": "stream",
     "text": [
      "Kendall's tau correlation coefficient: 0.3228233484619438\n",
      "P-value: 0.0777843450583517\n",
      "The correlation is not statistically significant at the 0.05 level.\n"
     ]
    }
   ],
   "source": [
    "res1 = stats.kendalltau(dfMediator['StopwordCount'].tolist(), list1)\n",
    "correlation_coefficient = res1.correlation\n",
    "p_value = res1.pvalue\n",
    "\n",
    "print(\"Kendall's tau correlation coefficient:\", correlation_coefficient)\n",
    "print(\"P-value:\", p_value)\n",
    "\n",
    "if p_value < 0.05:\n",
    "    print(\"The correlation is statistically significant at the 0.05 level.\")\n",
    "else:\n",
    "    print(\"The correlation is not statistically significant at the 0.05 level.\")"
   ]
  },
  {
   "cell_type": "markdown",
   "id": "4204f2df",
   "metadata": {},
   "source": [
    "## Point Biserial\n",
    "- Number of Stopwords uttered by Mediator is correlated with Mediator Intervention\n",
    "- Not Statistically Significant"
   ]
  },
  {
   "cell_type": "code",
   "execution_count": 17,
   "id": "d9410874",
   "metadata": {},
   "outputs": [
    {
     "name": "stdout",
     "output_type": "stream",
     "text": [
      "Point-biserial correlation coefficient: 0.4152022783973638\n",
      "P-value: 0.08663196249871084\n",
      "The correlation is not statistically significant at the 0.05 level.\n"
     ]
    }
   ],
   "source": [
    "res2 = stats.pointbiserialr(dfMediator['StopwordCount'].tolist(), list1)\n",
    "correlation_coefficient = res2.correlation\n",
    "p_value = res2.pvalue\n",
    "\n",
    "print(\"Point-biserial correlation coefficient:\", correlation_coefficient)\n",
    "print(\"P-value:\", p_value)\n",
    "\n",
    "if p_value < 0.05:\n",
    "    print(\"The correlation is statistically significant at the 0.05 level.\")\n",
    "else:\n",
    "    print(\"The correlation is not statistically significant at the 0.05 level.\")"
   ]
  },
  {
   "cell_type": "markdown",
   "id": "f07fe617",
   "metadata": {},
   "source": [
    "## Regression"
   ]
  },
  {
   "cell_type": "code",
   "execution_count": 18,
   "id": "f444765d",
   "metadata": {},
   "outputs": [
    {
     "name": "stdout",
     "output_type": "stream",
     "text": [
      "                    Robust linear Model Regression Results                    \n",
      "==============================================================================\n",
      "Dep. Variable:                      y   No. Observations:                   18\n",
      "Model:                            RLM   Df Residuals:                       16\n",
      "Method:                          IRLS   Df Model:                            1\n",
      "Norm:                          HuberT                                         \n",
      "Scale Est.:                       mad                                         \n",
      "Cov Type:                          H1                                         \n",
      "Date:                Sat, 15 Apr 2023                                         \n",
      "Time:                        13:25:13                                         \n",
      "No. Iterations:                    17                                         \n",
      "=================================================================================\n",
      "                    coef    std err          z      P>|z|      [0.025      0.975]\n",
      "---------------------------------------------------------------------------------\n",
      "const             2.4052      0.439      5.481      0.000       1.545       3.265\n",
      "StopwordCount     0.0022      0.001      1.508      0.132      -0.001       0.005\n",
      "=================================================================================\n",
      "\n",
      "If the model instance has been used for another fit with different fit parameters, then the fit options might not be the correct ones anymore .\n"
     ]
    }
   ],
   "source": [
    "X = sm.add_constant(dfMediator['StopwordCount'])\n",
    "\n",
    "model = sm.RLM(list1, X, M=sm.robust.norms.HuberT())\n",
    "results = model.fit()\n",
    "\n",
    "print(results.summary())"
   ]
  },
  {
   "cell_type": "code",
   "execution_count": null,
   "id": "af8fd9f4",
   "metadata": {},
   "outputs": [],
   "source": []
  }
 ],
 "metadata": {
  "kernelspec": {
   "display_name": "Python 3 (ipykernel)",
   "language": "python",
   "name": "python3"
  },
  "language_info": {
   "codemirror_mode": {
    "name": "ipython",
    "version": 3
   },
   "file_extension": ".py",
   "mimetype": "text/x-python",
   "name": "python",
   "nbconvert_exporter": "python",
   "pygments_lexer": "ipython3",
   "version": "3.9.13"
  }
 },
 "nbformat": 4,
 "nbformat_minor": 5
}
